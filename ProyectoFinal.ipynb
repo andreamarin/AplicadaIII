{
 "cells": [
  {
   "cell_type": "code",
   "execution_count": 1,
   "metadata": {},
   "outputs": [],
   "source": [
    "import pandas as pd\n",
    "import numpy as np\n",
    "import seaborn as sns\n",
    "import matplotlib.pyplot as plt\n",
    "from sklearn.decomposition import PCA\n",
    "from sklearn.model_selection import train_test_split\n",
    "from sklearn.cluster import KMeans\n",
    "from sklearn.cluster import AgglomerativeClustering\n",
    "from sklearn.discriminant_analysis import LinearDiscriminantAnalysis as LDA"
   ]
  },
  {
   "cell_type": "code",
   "execution_count": 2,
   "metadata": {},
   "outputs": [],
   "source": [
    "df = pd.read_csv('datosenigh2016reducido.txt', sep = '\\t')"
   ]
  },
  {
   "cell_type": "code",
   "execution_count": 3,
   "metadata": {},
   "outputs": [
    {
     "data": {
      "text/html": [
       "<div>\n",
       "<style scoped>\n",
       "    .dataframe tbody tr th:only-of-type {\n",
       "        vertical-align: middle;\n",
       "    }\n",
       "\n",
       "    .dataframe tbody tr th {\n",
       "        vertical-align: top;\n",
       "    }\n",
       "\n",
       "    .dataframe thead th {\n",
       "        text-align: right;\n",
       "    }\n",
       "</style>\n",
       "<table border=\"1\" class=\"dataframe\">\n",
       "  <thead>\n",
       "    <tr style=\"text-align: right;\">\n",
       "      <th></th>\n",
       "      <th>folioviv</th>\n",
       "      <th>ingresotrim</th>\n",
       "      <th>edad</th>\n",
       "      <th>hor_1</th>\n",
       "      <th>hijos_viv</th>\n",
       "      <th>antiguedad</th>\n",
       "      <th>focos_inca</th>\n",
       "      <th>focos_ahor</th>\n",
       "      <th>renta</th>\n",
       "      <th>estim_pago</th>\n",
       "      <th>tot_resid</th>\n",
       "      <th>tot_hom</th>\n",
       "      <th>tot_muj</th>\n",
       "      <th>tot_hog</th>\n",
       "      <th>factor</th>\n",
       "    </tr>\n",
       "  </thead>\n",
       "  <tbody>\n",
       "    <tr>\n",
       "      <th>count</th>\n",
       "      <td>6.684500e+04</td>\n",
       "      <td>6.684500e+04</td>\n",
       "      <td>66845.000000</td>\n",
       "      <td>66845.000000</td>\n",
       "      <td>66845.000000</td>\n",
       "      <td>66845.000000</td>\n",
       "      <td>66845.000000</td>\n",
       "      <td>66845.000000</td>\n",
       "      <td>66845.000000</td>\n",
       "      <td>66845.000000</td>\n",
       "      <td>66845.000000</td>\n",
       "      <td>66845.000000</td>\n",
       "      <td>66845.000000</td>\n",
       "      <td>66845.000000</td>\n",
       "      <td>66845.000000</td>\n",
       "    </tr>\n",
       "    <tr>\n",
       "      <th>mean</th>\n",
       "      <td>1.594561e+09</td>\n",
       "      <td>2.322465e+04</td>\n",
       "      <td>49.127205</td>\n",
       "      <td>31.595108</td>\n",
       "      <td>0.965607</td>\n",
       "      <td>17.177261</td>\n",
       "      <td>1.357977</td>\n",
       "      <td>5.164814</td>\n",
       "      <td>226.182676</td>\n",
       "      <td>1505.498347</td>\n",
       "      <td>3.707054</td>\n",
       "      <td>1.812327</td>\n",
       "      <td>1.894727</td>\n",
       "      <td>1.016456</td>\n",
       "      <td>474.106784</td>\n",
       "    </tr>\n",
       "    <tr>\n",
       "      <th>std</th>\n",
       "      <td>9.336194e+08</td>\n",
       "      <td>1.567333e+05</td>\n",
       "      <td>15.949107</td>\n",
       "      <td>26.557928</td>\n",
       "      <td>2.242695</td>\n",
       "      <td>16.270626</td>\n",
       "      <td>2.373277</td>\n",
       "      <td>4.901125</td>\n",
       "      <td>904.418015</td>\n",
       "      <td>2100.356358</td>\n",
       "      <td>1.893243</td>\n",
       "      <td>1.181223</td>\n",
       "      <td>1.228393</td>\n",
       "      <td>0.144923</td>\n",
       "      <td>498.479730</td>\n",
       "    </tr>\n",
       "    <tr>\n",
       "      <th>min</th>\n",
       "      <td>1.000038e+08</td>\n",
       "      <td>2.930000e+00</td>\n",
       "      <td>14.000000</td>\n",
       "      <td>0.000000</td>\n",
       "      <td>0.000000</td>\n",
       "      <td>0.000000</td>\n",
       "      <td>0.000000</td>\n",
       "      <td>0.000000</td>\n",
       "      <td>0.000000</td>\n",
       "      <td>0.000000</td>\n",
       "      <td>1.000000</td>\n",
       "      <td>0.000000</td>\n",
       "      <td>0.000000</td>\n",
       "      <td>1.000000</td>\n",
       "      <td>7.000000</td>\n",
       "    </tr>\n",
       "    <tr>\n",
       "      <th>25%</th>\n",
       "      <td>7.620035e+08</td>\n",
       "      <td>7.434780e+03</td>\n",
       "      <td>37.000000</td>\n",
       "      <td>0.000000</td>\n",
       "      <td>0.000000</td>\n",
       "      <td>5.000000</td>\n",
       "      <td>0.000000</td>\n",
       "      <td>2.000000</td>\n",
       "      <td>0.000000</td>\n",
       "      <td>500.000000</td>\n",
       "      <td>2.000000</td>\n",
       "      <td>1.000000</td>\n",
       "      <td>1.000000</td>\n",
       "      <td>1.000000</td>\n",
       "      <td>177.000000</td>\n",
       "    </tr>\n",
       "    <tr>\n",
       "      <th>50%</th>\n",
       "      <td>1.562090e+09</td>\n",
       "      <td>1.466850e+04</td>\n",
       "      <td>47.000000</td>\n",
       "      <td>37.000000</td>\n",
       "      <td>0.000000</td>\n",
       "      <td>14.000000</td>\n",
       "      <td>0.000000</td>\n",
       "      <td>4.000000</td>\n",
       "      <td>0.000000</td>\n",
       "      <td>1000.000000</td>\n",
       "      <td>4.000000</td>\n",
       "      <td>2.000000</td>\n",
       "      <td>2.000000</td>\n",
       "      <td>1.000000</td>\n",
       "      <td>340.000000</td>\n",
       "    </tr>\n",
       "    <tr>\n",
       "      <th>75%</th>\n",
       "      <td>2.402881e+09</td>\n",
       "      <td>2.513151e+04</td>\n",
       "      <td>60.000000</td>\n",
       "      <td>50.000000</td>\n",
       "      <td>0.000000</td>\n",
       "      <td>25.000000</td>\n",
       "      <td>2.000000</td>\n",
       "      <td>7.000000</td>\n",
       "      <td>0.000000</td>\n",
       "      <td>2000.000000</td>\n",
       "      <td>5.000000</td>\n",
       "      <td>2.000000</td>\n",
       "      <td>3.000000</td>\n",
       "      <td>1.000000</td>\n",
       "      <td>583.000000</td>\n",
       "    </tr>\n",
       "    <tr>\n",
       "      <th>max</th>\n",
       "      <td>3.260802e+09</td>\n",
       "      <td>3.514510e+07</td>\n",
       "      <td>105.000000</td>\n",
       "      <td>168.000000</td>\n",
       "      <td>21.000000</td>\n",
       "      <td>99.000000</td>\n",
       "      <td>98.000000</td>\n",
       "      <td>99.000000</td>\n",
       "      <td>33000.000000</td>\n",
       "      <td>204000.000000</td>\n",
       "      <td>22.000000</td>\n",
       "      <td>12.000000</td>\n",
       "      <td>14.000000</td>\n",
       "      <td>5.000000</td>\n",
       "      <td>5386.000000</td>\n",
       "    </tr>\n",
       "  </tbody>\n",
       "</table>\n",
       "</div>"
      ],
      "text/plain": [
       "           folioviv   ingresotrim          edad         hor_1     hijos_viv  \\\n",
       "count  6.684500e+04  6.684500e+04  66845.000000  66845.000000  66845.000000   \n",
       "mean   1.594561e+09  2.322465e+04     49.127205     31.595108      0.965607   \n",
       "std    9.336194e+08  1.567333e+05     15.949107     26.557928      2.242695   \n",
       "min    1.000038e+08  2.930000e+00     14.000000      0.000000      0.000000   \n",
       "25%    7.620035e+08  7.434780e+03     37.000000      0.000000      0.000000   \n",
       "50%    1.562090e+09  1.466850e+04     47.000000     37.000000      0.000000   \n",
       "75%    2.402881e+09  2.513151e+04     60.000000     50.000000      0.000000   \n",
       "max    3.260802e+09  3.514510e+07    105.000000    168.000000     21.000000   \n",
       "\n",
       "         antiguedad    focos_inca    focos_ahor         renta     estim_pago  \\\n",
       "count  66845.000000  66845.000000  66845.000000  66845.000000   66845.000000   \n",
       "mean      17.177261      1.357977      5.164814    226.182676    1505.498347   \n",
       "std       16.270626      2.373277      4.901125    904.418015    2100.356358   \n",
       "min        0.000000      0.000000      0.000000      0.000000       0.000000   \n",
       "25%        5.000000      0.000000      2.000000      0.000000     500.000000   \n",
       "50%       14.000000      0.000000      4.000000      0.000000    1000.000000   \n",
       "75%       25.000000      2.000000      7.000000      0.000000    2000.000000   \n",
       "max       99.000000     98.000000     99.000000  33000.000000  204000.000000   \n",
       "\n",
       "          tot_resid       tot_hom       tot_muj       tot_hog        factor  \n",
       "count  66845.000000  66845.000000  66845.000000  66845.000000  66845.000000  \n",
       "mean       3.707054      1.812327      1.894727      1.016456    474.106784  \n",
       "std        1.893243      1.181223      1.228393      0.144923    498.479730  \n",
       "min        1.000000      0.000000      0.000000      1.000000      7.000000  \n",
       "25%        2.000000      1.000000      1.000000      1.000000    177.000000  \n",
       "50%        4.000000      2.000000      2.000000      1.000000    340.000000  \n",
       "75%        5.000000      2.000000      3.000000      1.000000    583.000000  \n",
       "max       22.000000     12.000000     14.000000      5.000000   5386.000000  "
      ]
     },
     "execution_count": 3,
     "metadata": {},
     "output_type": "execute_result"
    }
   ],
   "source": [
    "df.describe()"
   ]
  },
  {
   "cell_type": "code",
   "execution_count": 38,
   "metadata": {},
   "outputs": [],
   "source": [
    "# clean data\n",
    "data = df.copy()\n",
    "data['renta_approx'] = np.where(data['renta'] > 0, data['renta'], data['estim_pago'])\n",
    "data['renta'] = np.where(data['renta'] > 0, 1, 0)\n",
    "data['tot_focos'] = data['focos_inca'] + data['focos_ahor']\n",
    "\n",
    "# dummy variable para los focos\n",
    "# 1 si tiene focos ahorradores 0 e.o.c.\n",
    "data['ahorradores'] = np.where(data['focos_ahor'] > 0, 1, 0)\n",
    "\n",
    "y = []\n",
    "for ingreso in data['ingresotrim']:\n",
    "    if ingreso < 1.466850e+04:\n",
    "        y.append(0)\n",
    "    elif ingreso < 2.513151e+04:\n",
    "        y.append(1)\n",
    "    else:\n",
    "        y.append(2)\n",
    "\n",
    "data.drop(columns = ['folioviv', 'estim_pago', 'focos_inca', 'focos_ahor','factor','ingresotrim'], inplace = True)\n"
   ]
  },
  {
   "cell_type": "code",
   "execution_count": 39,
   "metadata": {},
   "outputs": [
    {
     "data": {
      "text/html": [
       "<div>\n",
       "<style scoped>\n",
       "    .dataframe tbody tr th:only-of-type {\n",
       "        vertical-align: middle;\n",
       "    }\n",
       "\n",
       "    .dataframe tbody tr th {\n",
       "        vertical-align: top;\n",
       "    }\n",
       "\n",
       "    .dataframe thead th {\n",
       "        text-align: right;\n",
       "    }\n",
       "</style>\n",
       "<table border=\"1\" class=\"dataframe\">\n",
       "  <thead>\n",
       "    <tr style=\"text-align: right;\">\n",
       "      <th></th>\n",
       "      <th>edad</th>\n",
       "      <th>hor_1</th>\n",
       "      <th>hijos_viv</th>\n",
       "      <th>antiguedad</th>\n",
       "      <th>renta</th>\n",
       "      <th>tot_resid</th>\n",
       "      <th>tot_hom</th>\n",
       "      <th>tot_muj</th>\n",
       "      <th>tot_hog</th>\n",
       "      <th>renta_approx</th>\n",
       "      <th>tot_focos</th>\n",
       "      <th>ahorradores</th>\n",
       "    </tr>\n",
       "  </thead>\n",
       "  <tbody>\n",
       "    <tr>\n",
       "      <th>count</th>\n",
       "      <td>66845.000000</td>\n",
       "      <td>66845.000000</td>\n",
       "      <td>66845.000000</td>\n",
       "      <td>66845.000000</td>\n",
       "      <td>66845.000000</td>\n",
       "      <td>66845.000000</td>\n",
       "      <td>66845.000000</td>\n",
       "      <td>66845.000000</td>\n",
       "      <td>66845.000000</td>\n",
       "      <td>66845.000000</td>\n",
       "      <td>66845.000000</td>\n",
       "      <td>66845.000000</td>\n",
       "    </tr>\n",
       "    <tr>\n",
       "      <th>mean</th>\n",
       "      <td>49.127205</td>\n",
       "      <td>31.595108</td>\n",
       "      <td>0.965607</td>\n",
       "      <td>17.177261</td>\n",
       "      <td>0.122627</td>\n",
       "      <td>3.707054</td>\n",
       "      <td>1.812327</td>\n",
       "      <td>1.894727</td>\n",
       "      <td>1.016456</td>\n",
       "      <td>1731.681023</td>\n",
       "      <td>6.522792</td>\n",
       "      <td>0.861785</td>\n",
       "    </tr>\n",
       "    <tr>\n",
       "      <th>std</th>\n",
       "      <td>15.949107</td>\n",
       "      <td>26.557928</td>\n",
       "      <td>2.242695</td>\n",
       "      <td>16.270626</td>\n",
       "      <td>0.328011</td>\n",
       "      <td>1.893243</td>\n",
       "      <td>1.181223</td>\n",
       "      <td>1.228393</td>\n",
       "      <td>0.144923</td>\n",
       "      <td>2132.703284</td>\n",
       "      <td>4.747881</td>\n",
       "      <td>0.345128</td>\n",
       "    </tr>\n",
       "    <tr>\n",
       "      <th>min</th>\n",
       "      <td>14.000000</td>\n",
       "      <td>0.000000</td>\n",
       "      <td>0.000000</td>\n",
       "      <td>0.000000</td>\n",
       "      <td>0.000000</td>\n",
       "      <td>1.000000</td>\n",
       "      <td>0.000000</td>\n",
       "      <td>0.000000</td>\n",
       "      <td>1.000000</td>\n",
       "      <td>1.000000</td>\n",
       "      <td>0.000000</td>\n",
       "      <td>0.000000</td>\n",
       "    </tr>\n",
       "    <tr>\n",
       "      <th>25%</th>\n",
       "      <td>37.000000</td>\n",
       "      <td>0.000000</td>\n",
       "      <td>0.000000</td>\n",
       "      <td>5.000000</td>\n",
       "      <td>0.000000</td>\n",
       "      <td>2.000000</td>\n",
       "      <td>1.000000</td>\n",
       "      <td>1.000000</td>\n",
       "      <td>1.000000</td>\n",
       "      <td>800.000000</td>\n",
       "      <td>4.000000</td>\n",
       "      <td>1.000000</td>\n",
       "    </tr>\n",
       "    <tr>\n",
       "      <th>50%</th>\n",
       "      <td>47.000000</td>\n",
       "      <td>37.000000</td>\n",
       "      <td>0.000000</td>\n",
       "      <td>14.000000</td>\n",
       "      <td>0.000000</td>\n",
       "      <td>4.000000</td>\n",
       "      <td>2.000000</td>\n",
       "      <td>2.000000</td>\n",
       "      <td>1.000000</td>\n",
       "      <td>1200.000000</td>\n",
       "      <td>6.000000</td>\n",
       "      <td>1.000000</td>\n",
       "    </tr>\n",
       "    <tr>\n",
       "      <th>75%</th>\n",
       "      <td>60.000000</td>\n",
       "      <td>50.000000</td>\n",
       "      <td>0.000000</td>\n",
       "      <td>25.000000</td>\n",
       "      <td>0.000000</td>\n",
       "      <td>5.000000</td>\n",
       "      <td>2.000000</td>\n",
       "      <td>3.000000</td>\n",
       "      <td>1.000000</td>\n",
       "      <td>2000.000000</td>\n",
       "      <td>8.000000</td>\n",
       "      <td>1.000000</td>\n",
       "    </tr>\n",
       "    <tr>\n",
       "      <th>max</th>\n",
       "      <td>105.000000</td>\n",
       "      <td>168.000000</td>\n",
       "      <td>21.000000</td>\n",
       "      <td>99.000000</td>\n",
       "      <td>1.000000</td>\n",
       "      <td>22.000000</td>\n",
       "      <td>12.000000</td>\n",
       "      <td>14.000000</td>\n",
       "      <td>5.000000</td>\n",
       "      <td>204000.000000</td>\n",
       "      <td>187.000000</td>\n",
       "      <td>1.000000</td>\n",
       "    </tr>\n",
       "  </tbody>\n",
       "</table>\n",
       "</div>"
      ],
      "text/plain": [
       "               edad         hor_1     hijos_viv    antiguedad         renta  \\\n",
       "count  66845.000000  66845.000000  66845.000000  66845.000000  66845.000000   \n",
       "mean      49.127205     31.595108      0.965607     17.177261      0.122627   \n",
       "std       15.949107     26.557928      2.242695     16.270626      0.328011   \n",
       "min       14.000000      0.000000      0.000000      0.000000      0.000000   \n",
       "25%       37.000000      0.000000      0.000000      5.000000      0.000000   \n",
       "50%       47.000000     37.000000      0.000000     14.000000      0.000000   \n",
       "75%       60.000000     50.000000      0.000000     25.000000      0.000000   \n",
       "max      105.000000    168.000000     21.000000     99.000000      1.000000   \n",
       "\n",
       "          tot_resid       tot_hom       tot_muj       tot_hog   renta_approx  \\\n",
       "count  66845.000000  66845.000000  66845.000000  66845.000000   66845.000000   \n",
       "mean       3.707054      1.812327      1.894727      1.016456    1731.681023   \n",
       "std        1.893243      1.181223      1.228393      0.144923    2132.703284   \n",
       "min        1.000000      0.000000      0.000000      1.000000       1.000000   \n",
       "25%        2.000000      1.000000      1.000000      1.000000     800.000000   \n",
       "50%        4.000000      2.000000      2.000000      1.000000    1200.000000   \n",
       "75%        5.000000      2.000000      3.000000      1.000000    2000.000000   \n",
       "max       22.000000     12.000000     14.000000      5.000000  204000.000000   \n",
       "\n",
       "          tot_focos   ahorradores  \n",
       "count  66845.000000  66845.000000  \n",
       "mean       6.522792      0.861785  \n",
       "std        4.747881      0.345128  \n",
       "min        0.000000      0.000000  \n",
       "25%        4.000000      1.000000  \n",
       "50%        6.000000      1.000000  \n",
       "75%        8.000000      1.000000  \n",
       "max      187.000000      1.000000  "
      ]
     },
     "execution_count": 39,
     "metadata": {},
     "output_type": "execute_result"
    }
   ],
   "source": [
    "data.describe()"
   ]
  },
  {
   "cell_type": "code",
   "execution_count": 40,
   "metadata": {},
   "outputs": [
    {
     "data": {
      "text/html": [
       "<div>\n",
       "<style scoped>\n",
       "    .dataframe tbody tr th:only-of-type {\n",
       "        vertical-align: middle;\n",
       "    }\n",
       "\n",
       "    .dataframe tbody tr th {\n",
       "        vertical-align: top;\n",
       "    }\n",
       "\n",
       "    .dataframe thead th {\n",
       "        text-align: right;\n",
       "    }\n",
       "</style>\n",
       "<table border=\"1\" class=\"dataframe\">\n",
       "  <thead>\n",
       "    <tr style=\"text-align: right;\">\n",
       "      <th></th>\n",
       "      <th>edad</th>\n",
       "      <th>hor_1</th>\n",
       "      <th>hijos_viv</th>\n",
       "      <th>antiguedad</th>\n",
       "      <th>renta</th>\n",
       "      <th>tot_resid</th>\n",
       "      <th>tot_hom</th>\n",
       "      <th>tot_muj</th>\n",
       "      <th>tot_hog</th>\n",
       "      <th>renta_approx</th>\n",
       "      <th>tot_focos</th>\n",
       "      <th>ahorradores</th>\n",
       "    </tr>\n",
       "  </thead>\n",
       "  <tbody>\n",
       "    <tr>\n",
       "      <th>0</th>\n",
       "      <td>33</td>\n",
       "      <td>40</td>\n",
       "      <td>0</td>\n",
       "      <td>0</td>\n",
       "      <td>1</td>\n",
       "      <td>2</td>\n",
       "      <td>1</td>\n",
       "      <td>1</td>\n",
       "      <td>1</td>\n",
       "      <td>2700</td>\n",
       "      <td>11</td>\n",
       "      <td>1</td>\n",
       "    </tr>\n",
       "    <tr>\n",
       "      <th>1</th>\n",
       "      <td>29</td>\n",
       "      <td>75</td>\n",
       "      <td>0</td>\n",
       "      <td>0</td>\n",
       "      <td>1</td>\n",
       "      <td>2</td>\n",
       "      <td>1</td>\n",
       "      <td>1</td>\n",
       "      <td>1</td>\n",
       "      <td>3000</td>\n",
       "      <td>7</td>\n",
       "      <td>1</td>\n",
       "    </tr>\n",
       "    <tr>\n",
       "      <th>2</th>\n",
       "      <td>47</td>\n",
       "      <td>0</td>\n",
       "      <td>0</td>\n",
       "      <td>20</td>\n",
       "      <td>0</td>\n",
       "      <td>6</td>\n",
       "      <td>2</td>\n",
       "      <td>4</td>\n",
       "      <td>1</td>\n",
       "      <td>4000</td>\n",
       "      <td>17</td>\n",
       "      <td>1</td>\n",
       "    </tr>\n",
       "    <tr>\n",
       "      <th>3</th>\n",
       "      <td>29</td>\n",
       "      <td>40</td>\n",
       "      <td>0</td>\n",
       "      <td>0</td>\n",
       "      <td>1</td>\n",
       "      <td>3</td>\n",
       "      <td>0</td>\n",
       "      <td>3</td>\n",
       "      <td>1</td>\n",
       "      <td>4000</td>\n",
       "      <td>13</td>\n",
       "      <td>1</td>\n",
       "    </tr>\n",
       "    <tr>\n",
       "      <th>4</th>\n",
       "      <td>55</td>\n",
       "      <td>37</td>\n",
       "      <td>0</td>\n",
       "      <td>7</td>\n",
       "      <td>0</td>\n",
       "      <td>2</td>\n",
       "      <td>2</td>\n",
       "      <td>0</td>\n",
       "      <td>1</td>\n",
       "      <td>5000</td>\n",
       "      <td>12</td>\n",
       "      <td>1</td>\n",
       "    </tr>\n",
       "  </tbody>\n",
       "</table>\n",
       "</div>"
      ],
      "text/plain": [
       "   edad  hor_1  hijos_viv  antiguedad  renta  tot_resid  tot_hom  tot_muj  \\\n",
       "0    33     40          0           0      1          2        1        1   \n",
       "1    29     75          0           0      1          2        1        1   \n",
       "2    47      0          0          20      0          6        2        4   \n",
       "3    29     40          0           0      1          3        0        3   \n",
       "4    55     37          0           7      0          2        2        0   \n",
       "\n",
       "   tot_hog  renta_approx  tot_focos  ahorradores  \n",
       "0        1          2700         11            1  \n",
       "1        1          3000          7            1  \n",
       "2        1          4000         17            1  \n",
       "3        1          4000         13            1  \n",
       "4        1          5000         12            1  "
      ]
     },
     "execution_count": 40,
     "metadata": {},
     "output_type": "execute_result"
    }
   ],
   "source": [
    "data.head()"
   ]
  },
  {
   "cell_type": "code",
   "execution_count": 110,
   "metadata": {},
   "outputs": [],
   "source": [
    "#Estandarizar datos\n",
    "for col in ['edad', 'hor_1', 'hijos_viv', 'antiguedad', 'tot_resid',\n",
    "       'tot_hom', 'tot_muj', 'tot_hog', 'renta_approx', 'tot_focos']:\n",
    "    mu = np.mean(data[col])\n",
    "    sigma = np.std(data[col])\n",
    "    data[col] = data[col].apply(lambda x: (x-mu)/sigma)"
   ]
  },
  {
   "cell_type": "code",
   "execution_count": 41,
   "metadata": {},
   "outputs": [],
   "source": [
    "# Obtenemos el conjunto de train y test (80/20)\n",
    "X_train, X_test, y_train, y_test = train_test_split(data, y, test_size = 0.2, random_state = 158999)"
   ]
  },
  {
   "cell_type": "markdown",
   "metadata": {},
   "source": [
    "### LDA"
   ]
  },
  {
   "cell_type": "code",
   "execution_count": 42,
   "metadata": {},
   "outputs": [],
   "source": [
    "lda = LDA(n_components = None)"
   ]
  },
  {
   "cell_type": "code",
   "execution_count": 43,
   "metadata": {},
   "outputs": [
    {
     "name": "stderr",
     "output_type": "stream",
     "text": [
      "/anaconda3/lib/python3.6/site-packages/sklearn/discriminant_analysis.py:388: UserWarning: Variables are collinear.\n",
      "  warnings.warn(\"Variables are collinear.\")\n"
     ]
    }
   ],
   "source": [
    "X_lda = lda.fit(X_train, y_train)"
   ]
  },
  {
   "cell_type": "code",
   "execution_count": 45,
   "metadata": {},
   "outputs": [],
   "source": [
    "X_train = lda.transform(X_train)  \n",
    "X_test = lda.transform(X_test) "
   ]
  },
  {
   "cell_type": "code",
   "execution_count": 44,
   "metadata": {},
   "outputs": [
    {
     "data": {
      "text/plain": [
       "array([0.89652791, 0.10347209])"
      ]
     },
     "execution_count": 44,
     "metadata": {},
     "output_type": "execute_result"
    }
   ],
   "source": [
    "lda.explained_variance_ratio_"
   ]
  },
  {
   "cell_type": "code",
   "execution_count": 13,
   "metadata": {},
   "outputs": [
    {
     "data": {
      "text/plain": [
       "array([[ 0.90434246],\n",
       "       [-0.47260179],\n",
       "       [-0.86375894],\n",
       "       ...,\n",
       "       [ 0.98859516],\n",
       "       [-0.20824118],\n",
       "       [-0.20165922]])"
      ]
     },
     "execution_count": 13,
     "metadata": {},
     "output_type": "execute_result"
    }
   ],
   "source": [
    "X_train = lda.fit_transform(X_train, y_train)  \n",
    "X_test = lda.transform(X_test) "
   ]
  },
  {
   "cell_type": "code",
   "execution_count": 112,
   "metadata": {},
   "outputs": [],
   "source": [
    "n = len(data.columns) -1"
   ]
  },
  {
   "cell_type": "code",
   "execution_count": 113,
   "metadata": {},
   "outputs": [],
   "source": [
    "means_df = data.groupby('ingreso').mean()"
   ]
  },
  {
   "cell_type": "code",
   "execution_count": 114,
   "metadata": {},
   "outputs": [
    {
     "data": {
      "text/html": [
       "<div>\n",
       "<style scoped>\n",
       "    .dataframe tbody tr th:only-of-type {\n",
       "        vertical-align: middle;\n",
       "    }\n",
       "\n",
       "    .dataframe tbody tr th {\n",
       "        vertical-align: top;\n",
       "    }\n",
       "\n",
       "    .dataframe thead th {\n",
       "        text-align: right;\n",
       "    }\n",
       "</style>\n",
       "<table border=\"1\" class=\"dataframe\">\n",
       "  <thead>\n",
       "    <tr style=\"text-align: right;\">\n",
       "      <th></th>\n",
       "      <th>edad</th>\n",
       "      <th>hor_1</th>\n",
       "      <th>hijos_viv</th>\n",
       "      <th>antiguedad</th>\n",
       "      <th>renta</th>\n",
       "      <th>tot_resid</th>\n",
       "      <th>tot_hom</th>\n",
       "      <th>tot_muj</th>\n",
       "      <th>tot_hog</th>\n",
       "      <th>renta_approx</th>\n",
       "      <th>tot_focos</th>\n",
       "      <th>ahorradores</th>\n",
       "    </tr>\n",
       "    <tr>\n",
       "      <th>ingreso</th>\n",
       "      <th></th>\n",
       "      <th></th>\n",
       "      <th></th>\n",
       "      <th></th>\n",
       "      <th></th>\n",
       "      <th></th>\n",
       "      <th></th>\n",
       "      <th></th>\n",
       "      <th></th>\n",
       "      <th></th>\n",
       "      <th></th>\n",
       "      <th></th>\n",
       "    </tr>\n",
       "  </thead>\n",
       "  <tbody>\n",
       "    <tr>\n",
       "      <th>0</th>\n",
       "      <td>0.255325</td>\n",
       "      <td>-0.205833</td>\n",
       "      <td>0.224509</td>\n",
       "      <td>0.116529</td>\n",
       "      <td>0.083864</td>\n",
       "      <td>-0.012925</td>\n",
       "      <td>-0.036890</td>\n",
       "      <td>0.015553</td>\n",
       "      <td>0.028282</td>\n",
       "      <td>-0.237335</td>\n",
       "      <td>-0.282816</td>\n",
       "      <td>0.818777</td>\n",
       "    </tr>\n",
       "    <tr>\n",
       "      <th>1</th>\n",
       "      <td>-0.255333</td>\n",
       "      <td>0.205839</td>\n",
       "      <td>-0.224516</td>\n",
       "      <td>-0.116532</td>\n",
       "      <td>0.161391</td>\n",
       "      <td>0.012925</td>\n",
       "      <td>0.036891</td>\n",
       "      <td>-0.015554</td>\n",
       "      <td>-0.028283</td>\n",
       "      <td>0.237342</td>\n",
       "      <td>0.282824</td>\n",
       "      <td>0.904793</td>\n",
       "    </tr>\n",
       "  </tbody>\n",
       "</table>\n",
       "</div>"
      ],
      "text/plain": [
       "             edad     hor_1  hijos_viv  antiguedad     renta  tot_resid  \\\n",
       "ingreso                                                                   \n",
       "0        0.255325 -0.205833   0.224509    0.116529  0.083864  -0.012925   \n",
       "1       -0.255333  0.205839  -0.224516   -0.116532  0.161391   0.012925   \n",
       "\n",
       "          tot_hom   tot_muj   tot_hog  renta_approx  tot_focos  ahorradores  \n",
       "ingreso                                                                      \n",
       "0       -0.036890  0.015553  0.028282     -0.237335  -0.282816     0.818777  \n",
       "1        0.036891 -0.015554 -0.028283      0.237342   0.282824     0.904793  "
      ]
     },
     "execution_count": 114,
     "metadata": {},
     "output_type": "execute_result"
    }
   ],
   "source": [
    "means_df"
   ]
  },
  {
   "cell_type": "code",
   "execution_count": 115,
   "metadata": {},
   "outputs": [],
   "source": [
    "means = {'0': [], '1':[]}\n",
    "\n",
    "for col in means_df.columns:\n",
    "    means['0'].append(means_df[col][0])\n",
    "    means['1'].append(means_df[col][1])"
   ]
  },
  {
   "cell_type": "code",
   "execution_count": 116,
   "metadata": {},
   "outputs": [],
   "source": [
    "y = data['ingreso']\n",
    "data.drop(columns = ['ingreso'], inplace = True)"
   ]
  },
  {
   "cell_type": "code",
   "execution_count": 118,
   "metadata": {},
   "outputs": [],
   "source": [
    "#within-class scatter matrix\n",
    "S_W = np.zeros((n,n))\n",
    "for cl,mv in zip(range(0,1), means.values()):\n",
    "    class_sc_mat = np.zeros((n,n))                  # scatter matrix for every class\n",
    "    for row in data[y == cl].values:\n",
    "        row, mv = row.reshape(n,1), np.array(mv).reshape(n,1) # make column vectors\n",
    "        class_sc_mat += (row-mv).dot((row-mv).T)\n",
    "    S_W += class_sc_mat                             # sum class scatter matrices"
   ]
  },
  {
   "cell_type": "code",
   "execution_count": 119,
   "metadata": {},
   "outputs": [],
   "source": [
    "#between-class scatter matrix\n",
    "overall_mean = np.mean(data, axis = 0)\n",
    "S_B = np.zeros((n,n))\n",
    "\n",
    "for i, mean_vec in enumerate(means.values()):  \n",
    "    m = data[y==i].shape[0]\n",
    "    mean_vec = np.array(mean_vec).reshape(n,1) # make column vector\n",
    "    overall_mean = np.array(overall_mean).reshape(n,1) # make column vector\n",
    "    S_B += m * (mean_vec - overall_mean).dot((mean_vec - overall_mean).T)"
   ]
  },
  {
   "cell_type": "code",
   "execution_count": 120,
   "metadata": {},
   "outputs": [],
   "source": [
    "# obtain the linear discriminants\n",
    "eig_vals, eig_vecs = np.linalg.eig(np.linalg.inv(S_W).dot(S_B))"
   ]
  },
  {
   "cell_type": "code",
   "execution_count": 121,
   "metadata": {},
   "outputs": [],
   "source": [
    "eig_pairs = [(np.abs(eig_vals[i]), eig_vecs[:,i]) for i in range(len(eig_vals))]\n",
    "eig_pairs = sorted(eig_pairs, key=lambda k: k[0], reverse=True)\n"
   ]
  },
  {
   "cell_type": "code",
   "execution_count": 122,
   "metadata": {},
   "outputs": [
    {
     "name": "stdout",
     "output_type": "stream",
     "text": [
      "Variance explained:\n",
      "\n",
      "eigenvalue 1: 100.00%\n",
      "eigenvalue 2: 0.00%\n",
      "eigenvalue 3: 0.00%\n",
      "eigenvalue 4: 0.00%\n",
      "eigenvalue 5: 0.00%\n",
      "eigenvalue 6: 0.00%\n",
      "eigenvalue 7: 0.00%\n",
      "eigenvalue 8: 0.00%\n",
      "eigenvalue 9: 0.00%\n",
      "eigenvalue 10: 0.00%\n",
      "eigenvalue 11: 0.00%\n",
      "eigenvalue 12: 0.00%\n"
     ]
    }
   ],
   "source": [
    "print('Variance explained:\\n')\n",
    "eigv_sum = sum(eig_vals)\n",
    "for i,j in enumerate(eig_pairs):\n",
    "    print('eigenvalue {0:}: {1:.2%}'.format(i+1, (j[0]/eigv_sum).real))"
   ]
  },
  {
   "cell_type": "code",
   "execution_count": null,
   "metadata": {},
   "outputs": [],
   "source": []
  },
  {
   "cell_type": "markdown",
   "metadata": {},
   "source": [
    "### Análisis exploratorio"
   ]
  },
  {
   "cell_type": "markdown",
   "metadata": {},
   "source": [
    "#### Clustering"
   ]
  },
  {
   "cell_type": "code",
   "execution_count": 17,
   "metadata": {},
   "outputs": [],
   "source": [
    "kmeans = KMeans(2, 'random', 10, random_state=158999)"
   ]
  },
  {
   "cell_type": "code",
   "execution_count": 19,
   "metadata": {},
   "outputs": [],
   "source": [
    "kmeans.fit(X_train)\n",
    "labels = kmeans.predict(X_train)"
   ]
  },
  {
   "cell_type": "code",
   "execution_count": 20,
   "metadata": {},
   "outputs": [
    {
     "name": "stderr",
     "output_type": "stream",
     "text": [
      "/anaconda3/lib/python3.6/site-packages/ipykernel_launcher.py:1: SettingWithCopyWarning: \n",
      "A value is trying to be set on a copy of a slice from a DataFrame.\n",
      "Try using .loc[row_indexer,col_indexer] = value instead\n",
      "\n",
      "See the caveats in the documentation: http://pandas.pydata.org/pandas-docs/stable/indexing.html#indexing-view-versus-copy\n",
      "  \"\"\"Entry point for launching an IPython kernel.\n"
     ]
    }
   ],
   "source": [
    "train['ingreso'] = labels"
   ]
  },
  {
   "cell_type": "code",
   "execution_count": 21,
   "metadata": {},
   "outputs": [
    {
     "data": {
      "image/png": "[encoded data removed]",
      "text/plain": [
       "<Figure size 432x288 with 1 Axes>"
      ]
     },
     "metadata": {},
     "output_type": "display_data"
    }
   ],
   "source": [
    "sns.countplot(x = 'ingreso', data = train)\n",
    "plt.show()"
   ]
  },
  {
   "cell_type": "code",
   "execution_count": 23,
   "metadata": {},
   "outputs": [
    {
     "data": {
      "text/html": [
       "<div>\n",
       "<style scoped>\n",
       "    .dataframe tbody tr th:only-of-type {\n",
       "        vertical-align: middle;\n",
       "    }\n",
       "\n",
       "    .dataframe tbody tr th {\n",
       "        vertical-align: top;\n",
       "    }\n",
       "\n",
       "    .dataframe thead tr th {\n",
       "        text-align: left;\n",
       "    }\n",
       "\n",
       "    .dataframe thead tr:last-of-type th {\n",
       "        text-align: right;\n",
       "    }\n",
       "</style>\n",
       "<table border=\"1\" class=\"dataframe\">\n",
       "  <thead>\n",
       "    <tr>\n",
       "      <th></th>\n",
       "      <th colspan=\"8\" halign=\"left\">ingresotrim</th>\n",
       "      <th colspan=\"2\" halign=\"left\">edad</th>\n",
       "      <th>...</th>\n",
       "      <th colspan=\"2\" halign=\"left\">tot_focos</th>\n",
       "      <th colspan=\"8\" halign=\"left\">ahorradores</th>\n",
       "    </tr>\n",
       "    <tr>\n",
       "      <th></th>\n",
       "      <th>count</th>\n",
       "      <th>mean</th>\n",
       "      <th>std</th>\n",
       "      <th>min</th>\n",
       "      <th>25%</th>\n",
       "      <th>50%</th>\n",
       "      <th>75%</th>\n",
       "      <th>max</th>\n",
       "      <th>count</th>\n",
       "      <th>mean</th>\n",
       "      <th>...</th>\n",
       "      <th>75%</th>\n",
       "      <th>max</th>\n",
       "      <th>count</th>\n",
       "      <th>mean</th>\n",
       "      <th>std</th>\n",
       "      <th>min</th>\n",
       "      <th>25%</th>\n",
       "      <th>50%</th>\n",
       "      <th>75%</th>\n",
       "      <th>max</th>\n",
       "    </tr>\n",
       "    <tr>\n",
       "      <th>ingreso</th>\n",
       "      <th></th>\n",
       "      <th></th>\n",
       "      <th></th>\n",
       "      <th></th>\n",
       "      <th></th>\n",
       "      <th></th>\n",
       "      <th></th>\n",
       "      <th></th>\n",
       "      <th></th>\n",
       "      <th></th>\n",
       "      <th></th>\n",
       "      <th></th>\n",
       "      <th></th>\n",
       "      <th></th>\n",
       "      <th></th>\n",
       "      <th></th>\n",
       "      <th></th>\n",
       "      <th></th>\n",
       "      <th></th>\n",
       "      <th></th>\n",
       "      <th></th>\n",
       "    </tr>\n",
       "  </thead>\n",
       "  <tbody>\n",
       "    <tr>\n",
       "      <th>0</th>\n",
       "      <td>23327.0</td>\n",
       "      <td>22434.725274</td>\n",
       "      <td>118893.181608</td>\n",
       "      <td>8.80</td>\n",
       "      <td>5869.56</td>\n",
       "      <td>12032.60</td>\n",
       "      <td>23867.40</td>\n",
       "      <td>16750645.4</td>\n",
       "      <td>23327.0</td>\n",
       "      <td>0.552069</td>\n",
       "      <td>...</td>\n",
       "      <td>0.311132</td>\n",
       "      <td>19.898964</td>\n",
       "      <td>23327.0</td>\n",
       "      <td>0.863806</td>\n",
       "      <td>0.343002</td>\n",
       "      <td>0.0</td>\n",
       "      <td>1.0</td>\n",
       "      <td>1.0</td>\n",
       "      <td>1.0</td>\n",
       "      <td>1.0</td>\n",
       "    </tr>\n",
       "    <tr>\n",
       "      <th>1</th>\n",
       "      <td>30149.0</td>\n",
       "      <td>24140.876197</td>\n",
       "      <td>206115.492973</td>\n",
       "      <td>2.93</td>\n",
       "      <td>9489.12</td>\n",
       "      <td>16102.15</td>\n",
       "      <td>25892.43</td>\n",
       "      <td>35145097.8</td>\n",
       "      <td>30149.0</td>\n",
       "      <td>-0.432230</td>\n",
       "      <td>...</td>\n",
       "      <td>0.311132</td>\n",
       "      <td>19.477720</td>\n",
       "      <td>30149.0</td>\n",
       "      <td>0.859863</td>\n",
       "      <td>0.347135</td>\n",
       "      <td>0.0</td>\n",
       "      <td>1.0</td>\n",
       "      <td>1.0</td>\n",
       "      <td>1.0</td>\n",
       "      <td>1.0</td>\n",
       "    </tr>\n",
       "  </tbody>\n",
       "</table>\n",
       "<p>2 rows × 104 columns</p>\n",
       "</div>"
      ],
      "text/plain": [
       "        ingresotrim                                                        \\\n",
       "              count          mean            std   min      25%       50%   \n",
       "ingreso                                                                     \n",
       "0           23327.0  22434.725274  118893.181608  8.80  5869.56  12032.60   \n",
       "1           30149.0  24140.876197  206115.492973  2.93  9489.12  16102.15   \n",
       "\n",
       "                                  edad            ... tot_focos             \\\n",
       "              75%         max    count      mean  ...       75%        max   \n",
       "ingreso                                           ...                        \n",
       "0        23867.40  16750645.4  23327.0  0.552069  ...  0.311132  19.898964   \n",
       "1        25892.43  35145097.8  30149.0 -0.432230  ...  0.311132  19.477720   \n",
       "\n",
       "        ahorradores                                               \n",
       "              count      mean       std  min  25%  50%  75%  max  \n",
       "ingreso                                                           \n",
       "0           23327.0  0.863806  0.343002  0.0  1.0  1.0  1.0  1.0  \n",
       "1           30149.0  0.859863  0.347135  0.0  1.0  1.0  1.0  1.0  \n",
       "\n",
       "[2 rows x 104 columns]"
      ]
     },
     "execution_count": 23,
     "metadata": {},
     "output_type": "execute_result"
    }
   ],
   "source": [
    "train.groupby('ingreso').describe()"
   ]
  },
  {
   "cell_type": "code",
   "execution_count": 63,
   "metadata": {},
   "outputs": [
    {
     "ename": "KeyError",
     "evalue": "\"['ingresotrim'] not found in axis\"",
     "output_type": "error",
     "traceback": [
      "\u001b[0;31m---------------------------------------------------------------------------\u001b[0m",
      "\u001b[0;31mKeyError\u001b[0m                                  Traceback (most recent call last)",
      "\u001b[0;32m<ipython-input-63-bebdca4759f4>\u001b[0m in \u001b[0;36m<module>\u001b[0;34m()\u001b[0m\n\u001b[0;32m----> 1\u001b[0;31m \u001b[0mdata\u001b[0m\u001b[0;34m.\u001b[0m\u001b[0mdrop\u001b[0m\u001b[0;34m(\u001b[0m\u001b[0mcolumns\u001b[0m \u001b[0;34m=\u001b[0m \u001b[0;34m[\u001b[0m\u001b[0;34m'ingresotrim'\u001b[0m\u001b[0;34m]\u001b[0m\u001b[0;34m,\u001b[0m \u001b[0minplace\u001b[0m \u001b[0;34m=\u001b[0m \u001b[0;32mTrue\u001b[0m\u001b[0;34m)\u001b[0m\u001b[0;34m\u001b[0m\u001b[0;34m\u001b[0m\u001b[0m\n\u001b[0m",
      "\u001b[0;32m/anaconda3/lib/python3.6/site-packages/pandas/core/frame.py\u001b[0m in \u001b[0;36mdrop\u001b[0;34m(self, labels, axis, index, columns, level, inplace, errors)\u001b[0m\n\u001b[1;32m   3928\u001b[0m                                            \u001b[0mindex\u001b[0m\u001b[0;34m=\u001b[0m\u001b[0mindex\u001b[0m\u001b[0;34m,\u001b[0m \u001b[0mcolumns\u001b[0m\u001b[0;34m=\u001b[0m\u001b[0mcolumns\u001b[0m\u001b[0;34m,\u001b[0m\u001b[0;34m\u001b[0m\u001b[0;34m\u001b[0m\u001b[0m\n\u001b[1;32m   3929\u001b[0m                                            \u001b[0mlevel\u001b[0m\u001b[0;34m=\u001b[0m\u001b[0mlevel\u001b[0m\u001b[0;34m,\u001b[0m \u001b[0minplace\u001b[0m\u001b[0;34m=\u001b[0m\u001b[0minplace\u001b[0m\u001b[0;34m,\u001b[0m\u001b[0;34m\u001b[0m\u001b[0;34m\u001b[0m\u001b[0m\n\u001b[0;32m-> 3930\u001b[0;31m                                            errors=errors)\n\u001b[0m\u001b[1;32m   3931\u001b[0m \u001b[0;34m\u001b[0m\u001b[0m\n\u001b[1;32m   3932\u001b[0m     @rewrite_axis_style_signature('mapper', [('copy', True),\n",
      "\u001b[0;32m/anaconda3/lib/python3.6/site-packages/pandas/core/generic.py\u001b[0m in \u001b[0;36mdrop\u001b[0;34m(self, labels, axis, index, columns, level, inplace, errors)\u001b[0m\n\u001b[1;32m   3768\u001b[0m         \u001b[0;32mfor\u001b[0m \u001b[0maxis\u001b[0m\u001b[0;34m,\u001b[0m \u001b[0mlabels\u001b[0m \u001b[0;32min\u001b[0m \u001b[0maxes\u001b[0m\u001b[0;34m.\u001b[0m\u001b[0mitems\u001b[0m\u001b[0;34m(\u001b[0m\u001b[0;34m)\u001b[0m\u001b[0;34m:\u001b[0m\u001b[0;34m\u001b[0m\u001b[0;34m\u001b[0m\u001b[0m\n\u001b[1;32m   3769\u001b[0m             \u001b[0;32mif\u001b[0m \u001b[0mlabels\u001b[0m \u001b[0;32mis\u001b[0m \u001b[0;32mnot\u001b[0m \u001b[0;32mNone\u001b[0m\u001b[0;34m:\u001b[0m\u001b[0;34m\u001b[0m\u001b[0;34m\u001b[0m\u001b[0m\n\u001b[0;32m-> 3770\u001b[0;31m                 \u001b[0mobj\u001b[0m \u001b[0;34m=\u001b[0m \u001b[0mobj\u001b[0m\u001b[0;34m.\u001b[0m\u001b[0m_drop_axis\u001b[0m\u001b[0;34m(\u001b[0m\u001b[0mlabels\u001b[0m\u001b[0;34m,\u001b[0m \u001b[0maxis\u001b[0m\u001b[0;34m,\u001b[0m \u001b[0mlevel\u001b[0m\u001b[0;34m=\u001b[0m\u001b[0mlevel\u001b[0m\u001b[0;34m,\u001b[0m \u001b[0merrors\u001b[0m\u001b[0;34m=\u001b[0m\u001b[0merrors\u001b[0m\u001b[0;34m)\u001b[0m\u001b[0;34m\u001b[0m\u001b[0;34m\u001b[0m\u001b[0m\n\u001b[0m\u001b[1;32m   3771\u001b[0m \u001b[0;34m\u001b[0m\u001b[0m\n\u001b[1;32m   3772\u001b[0m         \u001b[0;32mif\u001b[0m \u001b[0minplace\u001b[0m\u001b[0;34m:\u001b[0m\u001b[0;34m\u001b[0m\u001b[0;34m\u001b[0m\u001b[0m\n",
      "\u001b[0;32m/anaconda3/lib/python3.6/site-packages/pandas/core/generic.py\u001b[0m in \u001b[0;36m_drop_axis\u001b[0;34m(self, labels, axis, level, errors)\u001b[0m\n\u001b[1;32m   3800\u001b[0m                 \u001b[0mnew_axis\u001b[0m \u001b[0;34m=\u001b[0m \u001b[0maxis\u001b[0m\u001b[0;34m.\u001b[0m\u001b[0mdrop\u001b[0m\u001b[0;34m(\u001b[0m\u001b[0mlabels\u001b[0m\u001b[0;34m,\u001b[0m \u001b[0mlevel\u001b[0m\u001b[0;34m=\u001b[0m\u001b[0mlevel\u001b[0m\u001b[0;34m,\u001b[0m \u001b[0merrors\u001b[0m\u001b[0;34m=\u001b[0m\u001b[0merrors\u001b[0m\u001b[0;34m)\u001b[0m\u001b[0;34m\u001b[0m\u001b[0;34m\u001b[0m\u001b[0m\n\u001b[1;32m   3801\u001b[0m             \u001b[0;32melse\u001b[0m\u001b[0;34m:\u001b[0m\u001b[0;34m\u001b[0m\u001b[0;34m\u001b[0m\u001b[0m\n\u001b[0;32m-> 3802\u001b[0;31m                 \u001b[0mnew_axis\u001b[0m \u001b[0;34m=\u001b[0m \u001b[0maxis\u001b[0m\u001b[0;34m.\u001b[0m\u001b[0mdrop\u001b[0m\u001b[0;34m(\u001b[0m\u001b[0mlabels\u001b[0m\u001b[0;34m,\u001b[0m \u001b[0merrors\u001b[0m\u001b[0;34m=\u001b[0m\u001b[0merrors\u001b[0m\u001b[0;34m)\u001b[0m\u001b[0;34m\u001b[0m\u001b[0;34m\u001b[0m\u001b[0m\n\u001b[0m\u001b[1;32m   3803\u001b[0m             \u001b[0mresult\u001b[0m \u001b[0;34m=\u001b[0m \u001b[0mself\u001b[0m\u001b[0;34m.\u001b[0m\u001b[0mreindex\u001b[0m\u001b[0;34m(\u001b[0m\u001b[0;34m**\u001b[0m\u001b[0;34m{\u001b[0m\u001b[0maxis_name\u001b[0m\u001b[0;34m:\u001b[0m \u001b[0mnew_axis\u001b[0m\u001b[0;34m}\u001b[0m\u001b[0;34m)\u001b[0m\u001b[0;34m\u001b[0m\u001b[0;34m\u001b[0m\u001b[0m\n\u001b[1;32m   3804\u001b[0m \u001b[0;34m\u001b[0m\u001b[0m\n",
      "\u001b[0;32m/anaconda3/lib/python3.6/site-packages/pandas/core/indexes/base.py\u001b[0m in \u001b[0;36mdrop\u001b[0;34m(self, labels, errors)\u001b[0m\n\u001b[1;32m   4908\u001b[0m             \u001b[0;32mif\u001b[0m \u001b[0merrors\u001b[0m \u001b[0;34m!=\u001b[0m \u001b[0;34m'ignore'\u001b[0m\u001b[0;34m:\u001b[0m\u001b[0;34m\u001b[0m\u001b[0;34m\u001b[0m\u001b[0m\n\u001b[1;32m   4909\u001b[0m                 raise KeyError(\n\u001b[0;32m-> 4910\u001b[0;31m                     '{} not found in axis'.format(labels[mask]))\n\u001b[0m\u001b[1;32m   4911\u001b[0m             \u001b[0mindexer\u001b[0m \u001b[0;34m=\u001b[0m \u001b[0mindexer\u001b[0m\u001b[0;34m[\u001b[0m\u001b[0;34m~\u001b[0m\u001b[0mmask\u001b[0m\u001b[0;34m]\u001b[0m\u001b[0;34m\u001b[0m\u001b[0;34m\u001b[0m\u001b[0m\n\u001b[1;32m   4912\u001b[0m         \u001b[0;32mreturn\u001b[0m \u001b[0mself\u001b[0m\u001b[0;34m.\u001b[0m\u001b[0mdelete\u001b[0m\u001b[0;34m(\u001b[0m\u001b[0mindexer\u001b[0m\u001b[0;34m)\u001b[0m\u001b[0;34m\u001b[0m\u001b[0;34m\u001b[0m\u001b[0m\n",
      "\u001b[0;31mKeyError\u001b[0m: \"['ingresotrim'] not found in axis\""
     ]
    }
   ],
   "source": [
    "data.drop(columns = ['ingresotrim'], inplace = True)"
   ]
  },
  {
   "cell_type": "code",
   "execution_count": 8,
   "metadata": {},
   "outputs": [],
   "source": [
    "# Obtenemos el conjunto de train y test (80/20)\n",
    "train, test = train_test_split(data, test_size = 0.2, random_state = 158999)"
   ]
  },
  {
   "cell_type": "code",
   "execution_count": 9,
   "metadata": {},
   "outputs": [
    {
     "data": {
      "text/plain": [
       "Index(['ingresotrim', 'edad', 'hor_1', 'hijos_viv', 'antiguedad', 'renta',\n",
       "       'tot_resid', 'tot_hom', 'tot_muj', 'tot_hog', 'renta_approx',\n",
       "       'tot_focos', 'ahorradores'],\n",
       "      dtype='object')"
      ]
     },
     "execution_count": 9,
     "metadata": {},
     "output_type": "execute_result"
    }
   ],
   "source": [
    "data.columns"
   ]
  },
  {
   "cell_type": "code",
   "execution_count": 10,
   "metadata": {},
   "outputs": [
    {
     "data": {
      "text/plain": [
       "Text(0.5, 0.98, 'Matriz de correlaciones')"
      ]
     },
     "execution_count": 10,
     "metadata": {},
     "output_type": "execute_result"
    },
    {
     "data": {
      "image/png": "[encoded data removed]",
      "text/plain": [
       "<Figure size 504x396 with 2 Axes>"
      ]
     },
     "metadata": {},
     "output_type": "display_data"
    }
   ],
   "source": [
    "# Correlacion\n",
    "corr = data.corr()\n",
    "\n",
    "# plot correlation matrix\n",
    "fig = plt.figure(figsize=(7, 5.5))\n",
    "mask = np.zeros_like(corr, dtype=np.bool) # create mask to cover the upper triangle\n",
    "mask[np.triu_indices_from(mask)] = True\n",
    "cmap = sns.diverging_palette(10, 240, as_cmap=True)\n",
    "sns.heatmap(corr, annot=False, mask=mask, vmin = -1.0, vmax = 1.0,linewidths=0.1, cmap = cmap)\n",
    "fig.suptitle('Matriz de correlaciones', fontsize=14)\n",
    "#plt.savefig('graphs/correlaciones.png', dpi = 300)"
   ]
  },
  {
   "cell_type": "code",
   "execution_count": 11,
   "metadata": {},
   "outputs": [
    {
     "data": {
      "text/html": [
       "<div>\n",
       "<style scoped>\n",
       "    .dataframe tbody tr th:only-of-type {\n",
       "        vertical-align: middle;\n",
       "    }\n",
       "\n",
       "    .dataframe tbody tr th {\n",
       "        vertical-align: top;\n",
       "    }\n",
       "\n",
       "    .dataframe thead th {\n",
       "        text-align: right;\n",
       "    }\n",
       "</style>\n",
       "<table border=\"1\" class=\"dataframe\">\n",
       "  <thead>\n",
       "    <tr style=\"text-align: right;\">\n",
       "      <th></th>\n",
       "      <th>ingresotrim</th>\n",
       "      <th>edad</th>\n",
       "      <th>hor_1</th>\n",
       "      <th>hijos_viv</th>\n",
       "      <th>antiguedad</th>\n",
       "      <th>renta</th>\n",
       "      <th>tot_resid</th>\n",
       "      <th>tot_hom</th>\n",
       "      <th>tot_muj</th>\n",
       "      <th>tot_hog</th>\n",
       "      <th>renta_approx</th>\n",
       "      <th>tot_focos</th>\n",
       "      <th>ahorradores</th>\n",
       "    </tr>\n",
       "  </thead>\n",
       "  <tbody>\n",
       "    <tr>\n",
       "      <th>0</th>\n",
       "      <td>54590.15</td>\n",
       "      <td>-1.011174</td>\n",
       "      <td>0.316476</td>\n",
       "      <td>-0.43056</td>\n",
       "      <td>-1.055730</td>\n",
       "      <td>1</td>\n",
       "      <td>-0.901663</td>\n",
       "      <td>-0.687705</td>\n",
       "      <td>-0.728377</td>\n",
       "      <td>-0.113551</td>\n",
       "      <td>0.454037</td>\n",
       "      <td>0.942998</td>\n",
       "      <td>1</td>\n",
       "    </tr>\n",
       "    <tr>\n",
       "      <th>1</th>\n",
       "      <td>47213.11</td>\n",
       "      <td>-1.261974</td>\n",
       "      <td>1.634360</td>\n",
       "      <td>-0.43056</td>\n",
       "      <td>-1.055730</td>\n",
       "      <td>1</td>\n",
       "      <td>-0.901663</td>\n",
       "      <td>-0.687705</td>\n",
       "      <td>-0.728377</td>\n",
       "      <td>-0.113551</td>\n",
       "      <td>0.594705</td>\n",
       "      <td>0.100511</td>\n",
       "      <td>1</td>\n",
       "    </tr>\n",
       "    <tr>\n",
       "      <th>2</th>\n",
       "      <td>82622.95</td>\n",
       "      <td>-0.133376</td>\n",
       "      <td>-1.189677</td>\n",
       "      <td>-0.43056</td>\n",
       "      <td>0.173488</td>\n",
       "      <td>0</td>\n",
       "      <td>1.211130</td>\n",
       "      <td>0.158881</td>\n",
       "      <td>1.713857</td>\n",
       "      <td>-0.113551</td>\n",
       "      <td>1.063597</td>\n",
       "      <td>2.206729</td>\n",
       "      <td>1</td>\n",
       "    </tr>\n",
       "    <tr>\n",
       "      <th>3</th>\n",
       "      <td>30737.69</td>\n",
       "      <td>-1.261974</td>\n",
       "      <td>0.316476</td>\n",
       "      <td>-0.43056</td>\n",
       "      <td>-1.055730</td>\n",
       "      <td>1</td>\n",
       "      <td>-0.373464</td>\n",
       "      <td>-1.534291</td>\n",
       "      <td>0.899779</td>\n",
       "      <td>-0.113551</td>\n",
       "      <td>1.063597</td>\n",
       "      <td>1.364242</td>\n",
       "      <td>1</td>\n",
       "    </tr>\n",
       "    <tr>\n",
       "      <th>4</th>\n",
       "      <td>42295.07</td>\n",
       "      <td>0.368224</td>\n",
       "      <td>0.203515</td>\n",
       "      <td>-0.43056</td>\n",
       "      <td>-0.625504</td>\n",
       "      <td>0</td>\n",
       "      <td>-0.901663</td>\n",
       "      <td>0.158881</td>\n",
       "      <td>-1.542455</td>\n",
       "      <td>-0.113551</td>\n",
       "      <td>1.532489</td>\n",
       "      <td>1.153620</td>\n",
       "      <td>1</td>\n",
       "    </tr>\n",
       "  </tbody>\n",
       "</table>\n",
       "</div>"
      ],
      "text/plain": [
       "   ingresotrim      edad     hor_1  hijos_viv  antiguedad  renta  tot_resid  \\\n",
       "0     54590.15 -1.011174  0.316476   -0.43056   -1.055730      1  -0.901663   \n",
       "1     47213.11 -1.261974  1.634360   -0.43056   -1.055730      1  -0.901663   \n",
       "2     82622.95 -0.133376 -1.189677   -0.43056    0.173488      0   1.211130   \n",
       "3     30737.69 -1.261974  0.316476   -0.43056   -1.055730      1  -0.373464   \n",
       "4     42295.07  0.368224  0.203515   -0.43056   -0.625504      0  -0.901663   \n",
       "\n",
       "    tot_hom   tot_muj   tot_hog  renta_approx  tot_focos  ahorradores  \n",
       "0 -0.687705 -0.728377 -0.113551      0.454037   0.942998            1  \n",
       "1 -0.687705 -0.728377 -0.113551      0.594705   0.100511            1  \n",
       "2  0.158881  1.713857 -0.113551      1.063597   2.206729            1  \n",
       "3 -1.534291  0.899779 -0.113551      1.063597   1.364242            1  \n",
       "4  0.158881 -1.542455 -0.113551      1.532489   1.153620            1  "
      ]
     },
     "execution_count": 11,
     "metadata": {},
     "output_type": "execute_result"
    }
   ],
   "source": [
    "data.head()"
   ]
  },
  {
   "cell_type": "code",
   "execution_count": 65,
   "metadata": {},
   "outputs": [
    {
     "data": {
      "text/plain": [
       "53476"
      ]
     },
     "execution_count": 65,
     "metadata": {},
     "output_type": "execute_result"
    }
   ],
   "source": [
    "len(X_train[:, 1])"
   ]
  },
  {
   "cell_type": "code",
   "execution_count": 66,
   "metadata": {},
   "outputs": [
    {
     "data": {
      "text/plain": [
       "53476"
      ]
     },
     "execution_count": 66,
     "metadata": {},
     "output_type": "execute_result"
    }
   ],
   "source": [
    "len(X_train[:, 0])"
   ]
  },
  {
   "cell_type": "markdown",
   "metadata": {},
   "source": [
    "#### PCA"
   ]
  },
  {
   "cell_type": "code",
   "execution_count": 12,
   "metadata": {},
   "outputs": [],
   "source": [
    "# Analisis en componentes principales\n",
    "pca = PCA(0.9)\n",
    "X_train = pca.fit_transform(train.iloc[:, 1:].values)\n",
    "#train_labels = train.iloc[:,0].values-1\n",
    "Var_C = pca.explained_variance_ratio_\n",
    "C = pca.components_"
   ]
  },
  {
   "cell_type": "code",
   "execution_count": 13,
   "metadata": {},
   "outputs": [
    {
     "data": {
      "text/plain": [
       "array([0.23489935, 0.17008384, 0.1518959 , 0.09602436, 0.09193416,\n",
       "       0.0783458 , 0.06218534, 0.04819334])"
      ]
     },
     "execution_count": 13,
     "metadata": {},
     "output_type": "execute_result"
    }
   ],
   "source": [
    "Var_C"
   ]
  },
  {
   "cell_type": "code",
   "execution_count": 14,
   "metadata": {},
   "outputs": [
    {
     "data": {
      "text/plain": [
       "8"
      ]
     },
     "execution_count": 14,
     "metadata": {},
     "output_type": "execute_result"
    }
   ],
   "source": [
    "len(Var_C)"
   ]
  },
  {
   "cell_type": "code",
   "execution_count": 15,
   "metadata": {},
   "outputs": [
    {
     "data": {
      "image/png": "[encoded data removed]",
      "text/plain": [
       "<Figure size 432x288 with 2 Axes>"
      ]
     },
     "metadata": {},
     "output_type": "display_data"
    }
   ],
   "source": [
    "cmap = sns.diverging_palette(10, 240, as_cmap=True)\n",
    "sns.heatmap(C, cmap=cmap, vmin=-1, vmax=1,\n",
    "            linewidths=.5, cbar_kws={\"shrink\": .6}, yticklabels=2,\n",
    "            square=True)\n",
    "plt.xticks(range(0,13),list(data.columns[1:]), rotation=-90)\n",
    "plt.xlabel(\"Variables\")\n",
    "plt.ylabel(\"Componentes\")\n",
    "#plt.savefig('graphs/var_en_comp.png', dpi = 300)\n",
    "plt.show()"
   ]
  },
  {
   "cell_type": "code",
   "execution_count": 24,
   "metadata": {},
   "outputs": [],
   "source": [
    "df_train = pd.DataFrame()\n",
    "df_train[\"ingreso\"] = train['ingreso']\n",
    "\n",
    "for i in range(len(Var_C)):\n",
    "    key = \"PC\" + str(i + 1)\n",
    "    df_train[key] = X_train[:,i]"
   ]
  },
  {
   "cell_type": "code",
   "execution_count": 46,
   "metadata": {},
   "outputs": [
    {
     "data": {
      "image/png": "[encoded data removed]",
      "text/plain": [
       "<Figure size 432x288 with 1 Axes>"
      ]
     },
     "metadata": {},
     "output_type": "display_data"
    }
   ],
   "source": [
    "plt.axhline(0, color=\"tab:grey\", alpha=0.3)\n",
    "plt.axvline(0, color=\"tab:grey\", alpha=0.3)\n",
    "sns.scatterplot(X_train[:,0], X_train[:,0], hue = y_train, legend = \"full\", palette = sns.color_palette(\"muted\")[:3])\n",
    "plt.xlabel(\"PC1 (36.09%)\")\n",
    "plt.ylabel(\"PC2 (19.52%)\")\n",
    "#plt.savefig('graphs/scatter_train.png', dpi = 300)\n",
    "plt.show()"
   ]
  },
  {
   "cell_type": "code",
   "execution_count": null,
   "metadata": {},
   "outputs": [],
   "source": []
  }
 ],
 "metadata": {
  "kernelspec": {
   "display_name": "Python 3",
   "language": "python",
   "name": "python3"
  },
  "language_info": {
   "codemirror_mode": {
    "name": "ipython",
    "version": 3
   },
   "file_extension": ".py",
   "mimetype": "text/x-python",
   "name": "python",
   "nbconvert_exporter": "python",
   "pygments_lexer": "ipython3",
   "version": "3.6.8"
  }
 },
 "nbformat": 4,
 "nbformat_minor": 2
}
